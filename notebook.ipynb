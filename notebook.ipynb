{
 "cells": [
  {
   "cell_type": "code",
   "execution_count": 7,
   "metadata": {},
   "outputs": [],
   "source": [
    "#EDA Libraries\n",
    "import numpy as np\n",
    "import pandas as pd\n",
    "import matplotlib.pyplot as plt\n",
    "import seaborn as sns\n",
    "\n",
    "\n",
    "## feature engineering libraries\n",
    "from sklearn.preprocessing import StandardScaler\n",
    "from sklearn.feature_selection import SelectKBest\n",
    "from sklearn.feature_selection import f_regression, mutual_info_regression\n",
    "from sklearn.model_selection import train_test_split\n",
    "\n",
    "## model preparation libraries\n",
    "from sklearn.linear_model import LinearRegression\n",
    "from sklearn.ensemble import RandomForestRegressor\n",
    "from sklearn.tree import DecisionTreeRegressor\n",
    "from xgboost import XGBRegressor\n",
    "\n",
    "## model evaluation libraries\n",
    "from sklearn.metrics import mean_absolute_error\n",
    "from sklearn.metrics import mean_squared_error\n",
    "from sklearn import metrics\n",
    "from sklearn.model_selection import cross_val_score\n",
    "from sklearn.model_selection import RepeatedKFold\n",
    "\n",
    "## model hyperparameter tuning\n",
    "from sklearn.pipeline import Pipeline\n",
    "from sklearn.model_selection import GridSearchCV\n",
    "\n",
    "import joblib\n",
    "%matplotlib inline"
   ]
  },
  {
   "cell_type": "code",
   "execution_count": 26,
   "metadata": {},
   "outputs": [],
   "source": [
    "import warnings\n",
    "warnings.filterwarnings('ignore')"
   ]
  },
  {
   "cell_type": "code",
   "execution_count": 8,
   "metadata": {},
   "outputs": [],
   "source": [
    "berry_data = pd.read_csv('WildBlueberryPollinationSimulationData.csv')"
   ]
  },
  {
   "cell_type": "code",
   "execution_count": 9,
   "metadata": {},
   "outputs": [
    {
     "data": {
      "text/html": [
       "<div>\n",
       "<style scoped>\n",
       "    .dataframe tbody tr th:only-of-type {\n",
       "        vertical-align: middle;\n",
       "    }\n",
       "\n",
       "    .dataframe tbody tr th {\n",
       "        vertical-align: top;\n",
       "    }\n",
       "\n",
       "    .dataframe thead th {\n",
       "        text-align: right;\n",
       "    }\n",
       "</style>\n",
       "<table border=\"1\" class=\"dataframe\">\n",
       "  <thead>\n",
       "    <tr style=\"text-align: right;\">\n",
       "      <th></th>\n",
       "      <th>clonesize</th>\n",
       "      <th>honeybee</th>\n",
       "      <th>bumbles</th>\n",
       "      <th>andrena</th>\n",
       "      <th>osmia</th>\n",
       "      <th>MaxOfUpperTRange</th>\n",
       "      <th>MinOfUpperTRange</th>\n",
       "      <th>AverageOfUpperTRange</th>\n",
       "      <th>MaxOfLowerTRange</th>\n",
       "      <th>MinOfLowerTRange</th>\n",
       "      <th>AverageOfLowerTRange</th>\n",
       "      <th>RainingDays</th>\n",
       "      <th>AverageRainingDays</th>\n",
       "      <th>fruitset</th>\n",
       "      <th>fruitmass</th>\n",
       "      <th>seeds</th>\n",
       "      <th>yield</th>\n",
       "    </tr>\n",
       "  </thead>\n",
       "  <tbody>\n",
       "    <tr>\n",
       "      <th>0</th>\n",
       "      <td>37.5</td>\n",
       "      <td>0.75</td>\n",
       "      <td>0.25</td>\n",
       "      <td>0.25</td>\n",
       "      <td>0.25</td>\n",
       "      <td>86.0</td>\n",
       "      <td>52.0</td>\n",
       "      <td>71.9</td>\n",
       "      <td>62.0</td>\n",
       "      <td>30.0</td>\n",
       "      <td>50.8</td>\n",
       "      <td>16.0</td>\n",
       "      <td>0.26</td>\n",
       "      <td>0.410652</td>\n",
       "      <td>0.408159</td>\n",
       "      <td>31.678898</td>\n",
       "      <td>3813.165795</td>\n",
       "    </tr>\n",
       "    <tr>\n",
       "      <th>1</th>\n",
       "      <td>37.5</td>\n",
       "      <td>0.75</td>\n",
       "      <td>0.25</td>\n",
       "      <td>0.25</td>\n",
       "      <td>0.25</td>\n",
       "      <td>86.0</td>\n",
       "      <td>52.0</td>\n",
       "      <td>71.9</td>\n",
       "      <td>62.0</td>\n",
       "      <td>30.0</td>\n",
       "      <td>50.8</td>\n",
       "      <td>1.0</td>\n",
       "      <td>0.10</td>\n",
       "      <td>0.444254</td>\n",
       "      <td>0.425458</td>\n",
       "      <td>33.449385</td>\n",
       "      <td>4947.605663</td>\n",
       "    </tr>\n",
       "    <tr>\n",
       "      <th>2</th>\n",
       "      <td>37.5</td>\n",
       "      <td>0.75</td>\n",
       "      <td>0.25</td>\n",
       "      <td>0.25</td>\n",
       "      <td>0.25</td>\n",
       "      <td>94.6</td>\n",
       "      <td>57.2</td>\n",
       "      <td>79.0</td>\n",
       "      <td>68.2</td>\n",
       "      <td>33.0</td>\n",
       "      <td>55.9</td>\n",
       "      <td>16.0</td>\n",
       "      <td>0.26</td>\n",
       "      <td>0.383787</td>\n",
       "      <td>0.399172</td>\n",
       "      <td>30.546306</td>\n",
       "      <td>3866.798965</td>\n",
       "    </tr>\n",
       "    <tr>\n",
       "      <th>3</th>\n",
       "      <td>37.5</td>\n",
       "      <td>0.75</td>\n",
       "      <td>0.25</td>\n",
       "      <td>0.25</td>\n",
       "      <td>0.25</td>\n",
       "      <td>94.6</td>\n",
       "      <td>57.2</td>\n",
       "      <td>79.0</td>\n",
       "      <td>68.2</td>\n",
       "      <td>33.0</td>\n",
       "      <td>55.9</td>\n",
       "      <td>1.0</td>\n",
       "      <td>0.10</td>\n",
       "      <td>0.407564</td>\n",
       "      <td>0.408789</td>\n",
       "      <td>31.562586</td>\n",
       "      <td>4303.943030</td>\n",
       "    </tr>\n",
       "    <tr>\n",
       "      <th>4</th>\n",
       "      <td>37.5</td>\n",
       "      <td>0.75</td>\n",
       "      <td>0.25</td>\n",
       "      <td>0.25</td>\n",
       "      <td>0.25</td>\n",
       "      <td>86.0</td>\n",
       "      <td>52.0</td>\n",
       "      <td>71.9</td>\n",
       "      <td>62.0</td>\n",
       "      <td>30.0</td>\n",
       "      <td>50.8</td>\n",
       "      <td>24.0</td>\n",
       "      <td>0.39</td>\n",
       "      <td>0.354413</td>\n",
       "      <td>0.382703</td>\n",
       "      <td>28.873714</td>\n",
       "      <td>3436.493543</td>\n",
       "    </tr>\n",
       "  </tbody>\n",
       "</table>\n",
       "</div>"
      ],
      "text/plain": [
       "   clonesize  honeybee  bumbles  andrena  osmia  MaxOfUpperTRange  \\\n",
       "0       37.5      0.75     0.25     0.25   0.25              86.0   \n",
       "1       37.5      0.75     0.25     0.25   0.25              86.0   \n",
       "2       37.5      0.75     0.25     0.25   0.25              94.6   \n",
       "3       37.5      0.75     0.25     0.25   0.25              94.6   \n",
       "4       37.5      0.75     0.25     0.25   0.25              86.0   \n",
       "\n",
       "   MinOfUpperTRange  AverageOfUpperTRange  MaxOfLowerTRange  MinOfLowerTRange  \\\n",
       "0              52.0                  71.9              62.0              30.0   \n",
       "1              52.0                  71.9              62.0              30.0   \n",
       "2              57.2                  79.0              68.2              33.0   \n",
       "3              57.2                  79.0              68.2              33.0   \n",
       "4              52.0                  71.9              62.0              30.0   \n",
       "\n",
       "   AverageOfLowerTRange  RainingDays  AverageRainingDays  fruitset  fruitmass  \\\n",
       "0                  50.8         16.0                0.26  0.410652   0.408159   \n",
       "1                  50.8          1.0                0.10  0.444254   0.425458   \n",
       "2                  55.9         16.0                0.26  0.383787   0.399172   \n",
       "3                  55.9          1.0                0.10  0.407564   0.408789   \n",
       "4                  50.8         24.0                0.39  0.354413   0.382703   \n",
       "\n",
       "       seeds        yield  \n",
       "0  31.678898  3813.165795  \n",
       "1  33.449385  4947.605663  \n",
       "2  30.546306  3866.798965  \n",
       "3  31.562586  4303.943030  \n",
       "4  28.873714  3436.493543  "
      ]
     },
     "execution_count": 9,
     "metadata": {},
     "output_type": "execute_result"
    }
   ],
   "source": [
    "berry_data.drop('Row#',axis=1,inplace=True)\n",
    "berry_data.head()"
   ]
  },
  {
   "cell_type": "markdown",
   "metadata": {},
   "source": [
    "Exploratory Data Analysis"
   ]
  },
  {
   "cell_type": "code",
   "execution_count": 10,
   "metadata": {},
   "outputs": [
    {
     "data": {
      "text/plain": [
       "clonesize               0\n",
       "honeybee                0\n",
       "bumbles                 0\n",
       "andrena                 0\n",
       "osmia                   0\n",
       "MaxOfUpperTRange        0\n",
       "MinOfUpperTRange        0\n",
       "AverageOfUpperTRange    0\n",
       "MaxOfLowerTRange        0\n",
       "MinOfLowerTRange        0\n",
       "AverageOfLowerTRange    0\n",
       "RainingDays             0\n",
       "AverageRainingDays      0\n",
       "fruitset                0\n",
       "fruitmass               0\n",
       "seeds                   0\n",
       "yield                   0\n",
       "dtype: int64"
      ]
     },
     "execution_count": 10,
     "metadata": {},
     "output_type": "execute_result"
    }
   ],
   "source": [
    "berry_data.isna().sum()"
   ]
  },
  {
   "cell_type": "code",
   "execution_count": 11,
   "metadata": {},
   "outputs": [
    {
     "data": {
      "image/png": "[encoded data removed]",
      "text/plain": [
       "<Figure size 432x288 with 1 Axes>"
      ]
     },
     "metadata": {
      "needs_background": "light"
     },
     "output_type": "display_data"
    }
   ],
   "source": [
    "plt.grid()\n",
    "plt.title(\"Blueberry Yield continuity curve\")\n",
    "plt.xlabel(\"Yield Value\")\n",
    "plt.hist(x=berry_data[\"yield\"], bins=20, color=\"salmon\");"
   ]
  },
  {
   "cell_type": "code",
   "execution_count": 12,
   "metadata": {},
   "outputs": [],
   "source": [
    "def select_features_corr_based(X_train, y_train, X_test, x=\"all\"):\n",
    "    if type(x) == str:\n",
    "        fs_corr = SelectKBest(score_func=f_regression, k='all')\n",
    "    else:\n",
    "        fs_corr = SelectKBest(score_func=f_regression, k = x)\n",
    "    fs_corr.fit(X_train, y_train)\n",
    "    X_train_fs = fs_corr.transform(X_train)\n",
    "    X_test_fs = fs_corr.transform(X_test)\n",
    "    \n",
    "    return X_train_fs, X_test_fs, fs_corr\n",
    "\n",
    "def select_features_infogain_based(X_train, y_train, X_test, x=\"all\"):\n",
    "    if type(x) == str:\n",
    "        fs_info = SelectKBest(score_func=mutual_info_regression, k='all')\n",
    "    else:\n",
    "        fs_info = SelectKBest(score_func=mutual_info_regression, k=x)\n",
    "    fs_info.fit(X_train, y_train)\n",
    "    X_train_fs = fs_info.transform(X_train)\n",
    "    X_test_fs = fs_info.transform(X_test)\n",
    "    \n",
    "    return X_train_fs, X_test_fs, fs_info"
   ]
  },
  {
   "cell_type": "code",
   "execution_count": 13,
   "metadata": {},
   "outputs": [],
   "source": [
    "X13 = berry_data.drop([\"yield\", \"fruitmass\", \"fruitset\", \"seeds\"], axis=1)\n",
    "y = berry_data[\"yield\"]\n",
    "\n",
    "X_train13, X_test13, y_train13, y_test13 = train_test_split(X13, y, test_size=0.33, random_state=1)\n",
    "\n",
    "X_train_fs_corr13, X_test_fs_corr13, fs_corr13 = select_features_corr_based(X_train13, y_train13, X_test13)\n",
    "X_train_fs_info13, X_test_fs_info13, fs_info13 = select_features_infogain_based(X_train13, y_train13, X_test13)"
   ]
  },
  {
   "cell_type": "code",
   "execution_count": 14,
   "metadata": {},
   "outputs": [],
   "source": [
    "X17 = berry_data.drop([\"yield\"], axis=1)\n",
    "\n",
    "X_train17, X_test17, y_train17, y_test17 = train_test_split(X17, y, test_size=0.33, random_state=1)\n",
    "\n",
    "X_train_fs_corr17, X_test_fs_corr17, fs_corr17 = select_features_corr_based(X_train17, y_train17, X_test17)\n",
    "X_train_fs_info17, X_test_fs_info17, fs_info17 = select_features_infogain_based(X_train17, y_train17, X_test17)"
   ]
  },
  {
   "cell_type": "code",
   "execution_count": 15,
   "metadata": {},
   "outputs": [
    {
     "name": "stdout",
     "output_type": "stream",
     "text": [
      "Feature 0: 184.510812\n",
      "Feature 1: 56.025407\n",
      "Feature 2: 56.110457\n",
      "Feature 3: 8.547399\n",
      "Feature 4: 115.949147\n",
      "Feature 5: 10.584235\n",
      "Feature 6: 8.223105\n",
      "Feature 7: 9.465591\n",
      "Feature 8: 10.721786\n",
      "Feature 9: 9.746869\n",
      "Feature 10: 9.334603\n",
      "Feature 11: 207.887147\n",
      "Feature 12: 211.684877\n"
     ]
    },
    {
     "data": {
      "image/png": "[encoded data removed]",
      "text/plain": [
       "<Figure size 432x288 with 1 Axes>"
      ]
     },
     "metadata": {
      "needs_background": "light"
     },
     "output_type": "display_data"
    },
    {
     "name": "stdout",
     "output_type": "stream",
     "text": [
      "Feature 0: 0.140005\n",
      "Feature 1: 0.095345\n",
      "Feature 2: 0.072908\n",
      "Feature 3: 0.051442\n",
      "Feature 4: 0.112637\n",
      "Feature 5: 0.084851\n",
      "Feature 6: 0.085330\n",
      "Feature 7: 0.083554\n",
      "Feature 8: 0.090117\n",
      "Feature 9: 0.084561\n",
      "Feature 10: 0.081858\n",
      "Feature 11: 0.192278\n",
      "Feature 12: 0.193359\n"
     ]
    },
    {
     "data": {
      "image/png": "[encoded data removed]",
      "text/plain": [
       "<Figure size 432x288 with 1 Axes>"
      ]
     },
     "metadata": {
      "needs_background": "light"
     },
     "output_type": "display_data"
    }
   ],
   "source": [
    "def fs_score_plot(fs_func):\n",
    "    \n",
    "    for i in range(len(fs_func.scores_)):\n",
    "        print('Feature %d: %f' % (i, fs_func.scores_[i]))\n",
    "    # plot the scores\n",
    "    plt.bar([i for i in range(len(fs_func.scores_))], fs_func.scores_)\n",
    "    plt.show()\n",
    "    \n",
    "fs_score_plot(fs_corr13)\n",
    "fs_score_plot(fs_info13)"
   ]
  },
  {
   "cell_type": "code",
   "execution_count": 16,
   "metadata": {},
   "outputs": [
    {
     "name": "stdout",
     "output_type": "stream",
     "text": [
      "Feature 0: 184.510812\n",
      "Feature 1: 56.025407\n",
      "Feature 2: 56.110457\n",
      "Feature 3: 8.547399\n",
      "Feature 4: 115.949147\n",
      "Feature 5: 10.584235\n",
      "Feature 6: 8.223105\n",
      "Feature 7: 9.465591\n",
      "Feature 8: 10.721786\n",
      "Feature 9: 9.746869\n",
      "Feature 10: 9.334603\n",
      "Feature 11: 207.887147\n",
      "Feature 12: 211.684877\n",
      "Feature 13: 16312.305141\n",
      "Feature 14: 3614.015492\n",
      "Feature 15: 7675.208274\n"
     ]
    },
    {
     "data": {
      "image/png": "[encoded data removed]",
      "text/plain": [
       "<Figure size 432x288 with 1 Axes>"
      ]
     },
     "metadata": {
      "needs_background": "light"
     },
     "output_type": "display_data"
    },
    {
     "name": "stdout",
     "output_type": "stream",
     "text": [
      "Feature 0: 0.141116\n",
      "Feature 1: 0.101886\n",
      "Feature 2: 0.072267\n",
      "Feature 3: 0.053817\n",
      "Feature 4: 0.113647\n",
      "Feature 5: 0.084295\n",
      "Feature 6: 0.089159\n",
      "Feature 7: 0.083016\n",
      "Feature 8: 0.087610\n",
      "Feature 9: 0.083047\n",
      "Feature 10: 0.081870\n",
      "Feature 11: 0.190817\n",
      "Feature 12: 0.189930\n",
      "Feature 13: 1.950900\n",
      "Feature 14: 1.614620\n",
      "Feature 15: 1.636104\n"
     ]
    },
    {
     "data": {
      "image/png": "[encoded data removed]",
      "text/plain": [
       "<Figure size 432x288 with 1 Axes>"
      ]
     },
     "metadata": {
      "needs_background": "light"
     },
     "output_type": "display_data"
    }
   ],
   "source": [
    "fs_score_plot(fs_corr17)\n",
    "fs_score_plot(fs_info17)"
   ]
  },
  {
   "cell_type": "code",
   "execution_count": 17,
   "metadata": {},
   "outputs": [
    {
     "data": {
      "image/png": "[encoded data removed]",
      "text/plain": [
       "<Figure size 720x504 with 2 Axes>"
      ]
     },
     "metadata": {
      "needs_background": "light"
     },
     "output_type": "display_data"
    }
   ],
   "source": [
    "sc = StandardScaler()\n",
    "fig, (ax1, ax2) = plt.subplots(ncols=2, figsize=(10, 7))\n",
    "ax1.set_title('Before feature Scaling')\n",
    "sns.kdeplot(berry_data[\"AverageOfUpperTRange\"], ax=ax1)\n",
    "sns.kdeplot(berry_data[\"RainingDays\"], ax=ax1)\n",
    "sns.kdeplot(berry_data[\"clonesize\"], ax=ax1)\n",
    "\n",
    "scaled_berry_data = pd.DataFrame(sc.fit_transform(berry_data), columns=berry_data.columns)\n",
    "ax2.set_title('After feature Scaling')\n",
    "sns.kdeplot(scaled_berry_data[\"AverageOfUpperTRange\"], ax=ax2)\n",
    "sns.kdeplot(scaled_berry_data[\"RainingDays\"], ax=ax2)\n",
    "sns.kdeplot(scaled_berry_data[\"clonesize\"], ax=ax2)\n",
    "plt.show()"
   ]
  },
  {
   "cell_type": "code",
   "execution_count": 18,
   "metadata": {},
   "outputs": [
    {
     "data": {
      "text/plain": [
       "(520, 10)"
      ]
     },
     "execution_count": 18,
     "metadata": {},
     "output_type": "execute_result"
    }
   ],
   "source": [
    "X_train13 = sc.fit_transform(X_train13)\n",
    "X_train17 = sc.fit_transform(X_train17)\n",
    "X_test13 = sc.fit_transform(X_test13)\n",
    "X_test17 = sc.fit_transform(X_test17);\n",
    "\n",
    "X_train_fs_info13, X_test_fs_info13, fs_info13 = select_features_infogain_based(X_train13, y_train13, X_test13, x=10)\n",
    "X_train_fs_info17, X_test_fs_info17, fs_info17 = select_features_infogain_based(X_train17, y_train17, X_test17, x=10)\n",
    "\n",
    "X_train_fs_info13.shape"
   ]
  },
  {
   "cell_type": "markdown",
   "metadata": {},
   "source": [
    "Linear Regression"
   ]
  },
  {
   "cell_type": "code",
   "execution_count": 20,
   "metadata": {},
   "outputs": [
    {
     "name": "stdout",
     "output_type": "stream",
     "text": [
      "MAE: 562.959\n",
      "MSE: 603855.975\n",
      "RMSE: 777.082\n"
     ]
    }
   ],
   "source": [
    "lreg = LinearRegression()\n",
    "\n",
    "lreg.fit(X_train_fs_info13, y_train13)\n",
    "\n",
    "yhat13 = lreg.predict(X_test_fs_info13)\n",
    "\n",
    "mae13_linear = mean_absolute_error(y_test13, yhat13)\n",
    "mse13_linear = mean_squared_error(y_test13, yhat13)\n",
    "rmse13_linear = np.sqrt(mse13_linear)\n",
    "\n",
    "print('MAE: %.3f' % mae13_linear)\n",
    "print('MSE: %.3f' % mse13_linear)\n",
    "print('RMSE: %.3f' % rmse13_linear)"
   ]
  },
  {
   "cell_type": "code",
   "execution_count": 21,
   "metadata": {},
   "outputs": [
    {
     "name": "stdout",
     "output_type": "stream",
     "text": [
      "MAE: 150.309\n",
      "MSE: 35205.909\n",
      "RMSE: 187.632\n"
     ]
    }
   ],
   "source": [
    "lreg.fit(X_train_fs_info17, y_train17)\n",
    "\n",
    "yhat17 = lreg.predict(X_test_fs_info17)\n",
    "mae17_linear = mean_absolute_error(y_test17, yhat17)\n",
    "mse17_linear = mean_squared_error(y_test17, yhat17)\n",
    "rmse17_linear = np.sqrt(mse17_linear)\n",
    "\n",
    "print('MAE: %.3f' % mae17_linear)\n",
    "print('MSE: %.3f' % mse17_linear)\n",
    "print('RMSE: %.3f' % rmse17_linear)"
   ]
  },
  {
   "cell_type": "markdown",
   "metadata": {},
   "source": [
    "RandomForest Regression"
   ]
  },
  {
   "cell_type": "code",
   "execution_count": 22,
   "metadata": {},
   "outputs": [
    {
     "name": "stdout",
     "output_type": "stream",
     "text": [
      "MAE: 387.555\n",
      "MSE: 248865.783\n",
      "RMSE: 498.864\n"
     ]
    }
   ],
   "source": [
    "rf = RandomForestRegressor()\n",
    "\n",
    "rf.fit(X_train_fs_info13, y_train13)\n",
    "    \n",
    "yhat13 = rf.predict(X_test_fs_info13)\n",
    "mae13_rf = mean_absolute_error(y_test13, yhat13)\n",
    "mse13_rf = mean_squared_error(y_test13, yhat13)\n",
    "rmse13_rf = np.sqrt(mse13_rf)\n",
    "\n",
    "print('MAE: %.3f' % mae13_rf)\n",
    "print('MSE: %.3f' % mse13_rf)\n",
    "print('RMSE: %.3f' % rmse13_rf)"
   ]
  },
  {
   "cell_type": "code",
   "execution_count": 23,
   "metadata": {},
   "outputs": [
    {
     "name": "stdout",
     "output_type": "stream",
     "text": [
      "MAE: 146.693\n",
      "MSE: 43468.905\n",
      "RMSE: 208.492\n"
     ]
    }
   ],
   "source": [
    "rf.fit(X_train_fs_info17, y_train17)\n",
    "\n",
    "yhat17 = rf.predict(X_test_fs_info17)\n",
    "mae17_rf = mean_absolute_error(y_test17, yhat17)\n",
    "mse17_rf = mean_squared_error(y_test17, yhat17)\n",
    "rmse17_rf = np.sqrt(mse17_rf)\n",
    "\n",
    "print('MAE: %.3f' % mae17_rf)\n",
    "print('MSE: %.3f' % mse17_rf)\n",
    "print('RMSE: %.3f' % rmse17_rf)"
   ]
  },
  {
   "cell_type": "code",
   "execution_count": 24,
   "metadata": {},
   "outputs": [
    {
     "name": "stdout",
     "output_type": "stream",
     "text": [
      "MAE: 400.614\n",
      "MSE: 269663.523\n",
      "RMSE: 519.291\n"
     ]
    }
   ],
   "source": [
    "dtree = DecisionTreeRegressor()\n",
    "\n",
    "dtree.fit(X_train_fs_info13, y_train13)\n",
    "\n",
    "yhat13 = dtree.predict(X_test_fs_info13)\n",
    "mae13_dtree = mean_absolute_error(y_test13, yhat13)\n",
    "mse13_dtree = mean_squared_error(y_test13, yhat13)\n",
    "rmse13_dtree = np.sqrt(mse13_dtree)\n",
    "\n",
    "print('MAE: %.3f' % mae13_dtree)\n",
    "print('MSE: %.3f' % mse13_dtree)\n",
    "print('RMSE: %.3f' % rmse13_dtree)"
   ]
  },
  {
   "cell_type": "code",
   "execution_count": 25,
   "metadata": {},
   "outputs": [
    {
     "name": "stdout",
     "output_type": "stream",
     "text": [
      "MAE: 164.572\n",
      "MSE: 57007.212\n",
      "RMSE: 238.762\n"
     ]
    }
   ],
   "source": [
    "dtree.fit(X_train_fs_info17, y_train17)\n",
    "\n",
    "yhat17 = dtree.predict(X_test_fs_info17)\n",
    "mae17_dtree = mean_absolute_error(y_test17, yhat17)\n",
    "mse17_dtree = mean_squared_error(y_test17, yhat17)\n",
    "rmse17_dtree = np.sqrt(mse17_dtree)\n",
    "\n",
    "print('MAE: %.3f' % mae17_dtree)\n",
    "print('MSE: %.3f' % mse17_dtree)\n",
    "print('RMSE: %.3f' % rmse17_dtree)"
   ]
  },
  {
   "cell_type": "markdown",
   "metadata": {},
   "source": [
    "XGBRegression"
   ]
  },
  {
   "cell_type": "code",
   "execution_count": 27,
   "metadata": {},
   "outputs": [
    {
     "name": "stdout",
     "output_type": "stream",
     "text": [
      "MAE: 374.147\n",
      "MSE: 228185.676\n",
      "RMSE: 477.688\n"
     ]
    }
   ],
   "source": [
    "xgb = XGBRegressor()\n",
    "\n",
    "xgb.fit(X_train_fs_info13, y_train13)\n",
    "\n",
    "yhat13 = xgb.predict(X_test_fs_info13)\n",
    "\n",
    "mae13_xgb = mean_absolute_error(y_test13, yhat13)\n",
    "mse13_xgb = mean_squared_error(y_test13, yhat13)\n",
    "rmse13_xgb = np.sqrt(mse13_xgb)\n",
    "\n",
    "print('MAE: %.3f' % mae13_xgb)\n",
    "print('MSE: %.3f' % mse13_xgb)\n",
    "print('RMSE: %.3f' % rmse13_xgb)"
   ]
  },
  {
   "cell_type": "code",
   "execution_count": 28,
   "metadata": {},
   "outputs": [
    {
     "name": "stdout",
     "output_type": "stream",
     "text": [
      "MAE: 145.976\n",
      "MSE: 42165.763\n",
      "RMSE: 205.343\n"
     ]
    }
   ],
   "source": [
    "xgb.fit(X_train_fs_info17, y_train17)\n",
    "\n",
    "yhat17 = xgb.predict(X_test_fs_info17)\n",
    "\n",
    "mae17_xgb = mean_absolute_error(y_test17, yhat17)\n",
    "mse17_xgb = mean_squared_error(y_test17, yhat17)\n",
    "rmse17_xgb = np.sqrt(mse17_xgb)\n",
    "\n",
    "print('MAE: %.3f' % mae17_xgb)\n",
    "print('MSE: %.3f' % mse17_xgb)\n",
    "print('RMSE: %.3f' % rmse17_xgb)"
   ]
  },
  {
   "cell_type": "code",
   "execution_count": 29,
   "metadata": {},
   "outputs": [
    {
     "data": {
      "image/png": "[encoded data removed]",
      "text/plain": [
       "<Figure size 432x288 with 1 Axes>"
      ]
     },
     "metadata": {
      "needs_background": "light"
     },
     "output_type": "display_data"
    }
   ],
   "source": [
    "error_rec = {\n",
    "    \"linearreg\": {\n",
    "        \"mae\": mae17_linear,\n",
    "        \"rmse\": rmse17_linear\n",
    "    },\n",
    "    \"randomforest\": {\n",
    "        \"mae\": mae17_rf,\n",
    "        \"rmse\": rmse17_rf\n",
    "    },\n",
    "    \"decisiontree\": {\n",
    "        \"mae\": mae17_dtree,\n",
    "        \"rmse\": rmse17_dtree\n",
    "    },\n",
    "    \"xgboost\": {\n",
    "        \"mae\": mae17_xgb,\n",
    "        \"rmse\": rmse17_xgb\n",
    "    },\n",
    "}\n",
    "pd.DataFrame(error_rec).plot(kind=\"bar\", \n",
    "             color=[\n",
    "                 sns.color_palette(\"pastel\")[0], \n",
    "                 sns.color_palette(\"pastel\")[1], \n",
    "                 sns.color_palette(\"pastel\")[2], \n",
    "                 sns.color_palette(\"pastel\")[3]])"
   ]
  },
  {
   "cell_type": "code",
   "execution_count": 30,
   "metadata": {},
   "outputs": [],
   "source": [
    "cv = RepeatedKFold(n_splits= 78,n_repeats = 3,random_state = 1)\n",
    "fs_info_v0 = SelectKBest(score_func = mutual_info_regression)\n",
    "\n",
    "# y_test17, yhat17, X_train_fs_info13, y_train13, X_test_fs_info13 (basic models)\n",
    "# \n",
    "# define pipeline for each algorithm\n",
    "# define GSCV for each\n",
    "# loop through it\n",
    "\n",
    "\n",
    "pipe_lr = Pipeline([\n",
    "    ('sel', fs_info_v0), \n",
    "    ('model', LinearRegression())\n",
    "])\n",
    "\n",
    "pipe_rf = Pipeline([\n",
    "    ('sel', fs_info_v0), \n",
    "    ('model', RandomForestRegressor(random_state=1))\n",
    "])\n",
    "\n",
    "pipe_dtree = Pipeline([\n",
    "    ('sel', fs_info_v0), \n",
    "    ('model', DecisionTreeRegressor(random_state=1))\n",
    "])\n",
    "\n",
    "pipe_xgb = Pipeline([\n",
    "    ('sel', fs_info_v0), \n",
    "    ('model', XGBRegressor(random_state=1))\n",
    "])"
   ]
  },
  {
   "cell_type": "code",
   "execution_count": 31,
   "metadata": {},
   "outputs": [],
   "source": [
    "param_range = [15, 18, 10]\n",
    "param_range_fl = [5.0, 10.0]\n",
    "\n",
    "grid_params_lr = [{'sel__k': [i for i in range(X_train17.shape[1]-6, X_train17.shape[1]-4)],\n",
    "        }] \n",
    "\n",
    "\n",
    "grid_params_rf = [{'sel__k': [i for i in range(X_train17.shape[1]-6, X_train17.shape[1]-4)],\n",
    "        'model__criterion': ['mse', 'mae'],\n",
    "#         'model__max_depth': param_range,\n",
    "#         'model__min_samples_split': param_range[1:]\n",
    "                  }]\n",
    "\n",
    "\n",
    "grid_params_dtree = [{'sel__k': [i for i in range(X_train17.shape[1]-6, X_train17.shape[1]-4)],\n",
    "                    'model__criterion': ['mse', 'mae'],\n",
    "#                      'model__max_depth': param_range,\n",
    "#                      'model__max_features': ['auto', 'sqrt']\n",
    "                     }]\n",
    "\n",
    "\n",
    "grid_params_xgb = [{'sel__k': [i for i in range(X_train17.shape[1]-6, X_train17.shape[1]-4)],\n",
    "#                     'model__max_depth': [9,12],\n",
    "#                    'model__min_child_weight': [7,8],\n",
    "                   'model__subsample': [i/10. for i in range(9,11)]\n",
    "                   }]\n",
    "\n",
    "\n",
    "\n",
    "LR = GridSearchCV(estimator=pipe_lr,\n",
    "            param_grid=grid_params_lr,\n",
    "            scoring='neg_mean_absolute_error',\n",
    "            cv=cv)\n",
    "\n",
    "RF = GridSearchCV(estimator=pipe_rf,\n",
    "            param_grid=grid_params_rf,\n",
    "            scoring='neg_mean_absolute_error',\n",
    "            cv=cv, \n",
    "            n_jobs= -1)\n",
    "\n",
    "DT = GridSearchCV(estimator=pipe_dtree,\n",
    "            param_grid=grid_params_dtree,\n",
    "            scoring='neg_mean_absolute_error',\n",
    "            cv=cv, \n",
    "            n_jobs= -1)\n",
    "\n",
    "XGB = GridSearchCV(estimator=pipe_xgb,\n",
    "            param_grid=grid_params_xgb,\n",
    "            scoring='neg_mean_absolute_error',\n",
    "            cv=cv, \n",
    "            n_jobs= -1)\n",
    "\n",
    "grids = [LR,RF,XGB,DT]\n",
    "\n",
    "# Creating a dict for our reference\n",
    "grid_dict = {0: 'Logistic Regression', \n",
    "        1: 'Random Forest',\n",
    "        2: 'XGBoost',\n",
    "        3: 'Decision Tree'}"
   ]
  },
  {
   "cell_type": "code",
   "execution_count": 32,
   "metadata": {},
   "outputs": [],
   "source": [
    "def extract_best_model(grids: list, grid_dict: dict):\n",
    "    print('Performing model optimizations...')\n",
    "    least_mae = 270817\n",
    "    best_regr = 0\n",
    "    best_gs = ''\n",
    "    for idx, gs in enumerate(grids):\n",
    "        print('\\nEstimator: %s' % grid_dict[idx])\n",
    "        gs.fit(X_train17, y_train17)\n",
    "        print('Best Config: %s' % gs.best_params_)\n",
    "        # Best training data accuracy\n",
    "        print('Best MAE: %.3f' % gs.best_score_)\n",
    "        # Predict on test data with best params\n",
    "        y_pred_v0 = gs.predict(X_test17)\n",
    "        # Test data accuracy of model with best params\n",
    "        print('Test set mean absolute error for best params: %.3f ' % mean_absolute_error(y_test17, y_pred_v0))\n",
    "        print('Test set root mean squared error for best params: %.3f ' % np.sqrt(mean_absolute_error(y_test17, y_pred_v0)))\n",
    "        \n",
    "        # Track best (least test error) model\n",
    "        if mean_absolute_error(y_test17, y_pred_v0) < least_mae:\n",
    "            least_mae = mean_absolute_error(y_test17, y_pred_v0)\n",
    "            best_gs = gs\n",
    "            best_regr = idx\n",
    "    print('\\nClassifier with least test set MAE: %s' % grid_dict[best_regr])\n",
    "    \n",
    "    return (grid_dict[best_regr], best_gs, least_mae)"
   ]
  },
  {
   "cell_type": "code",
   "execution_count": 33,
   "metadata": {},
   "outputs": [
    {
     "name": "stdout",
     "output_type": "stream",
     "text": [
      "Performing model optimizations...\n",
      "\n",
      "Estimator: Logistic Regression\n",
      "Best Config: {'sel__k': 11}\n",
      "Best MAE: -101.480\n",
      "Test set mean absolute error for best params: 172.887 \n",
      "Test set root mean squared error for best params: 13.149 \n",
      "\n",
      "Estimator: Random Forest\n",
      "Best Config: {'model__criterion': 'mse', 'sel__k': 11}\n",
      "Best MAE: -122.290\n",
      "Test set mean absolute error for best params: 146.888 \n",
      "Test set root mean squared error for best params: 12.120 \n",
      "\n",
      "Estimator: XGBoost\n",
      "Best Config: {'model__subsample': 0.9, 'sel__k': 11}\n",
      "Best MAE: -123.765\n",
      "Test set mean absolute error for best params: 135.957 \n",
      "Test set root mean squared error for best params: 11.660 \n",
      "\n",
      "Estimator: Decision Tree\n",
      "Best Config: {'model__criterion': 'mae', 'sel__k': 10}\n",
      "Best MAE: -162.202\n",
      "Test set mean absolute error for best params: 179.687 \n",
      "Test set root mean squared error for best params: 13.405 \n",
      "\n",
      "Classifier with least test set MAE: XGBoost\n",
      "Best Model: XGBoost\n",
      "Error Rate: 135.95669985177528\n",
      "GridSearchCV(cv=RepeatedKFold(n_repeats=3, n_splits=78, random_state=1),\n",
      "             estimator=Pipeline(steps=[('sel',\n",
      "                                        SelectKBest(score_func=<function mutual_info_regression at 0x000001828CCDEDD0>)),\n",
      "                                       ('model',\n",
      "                                        XGBRegressor(base_score=None,\n",
      "                                                     booster=None,\n",
      "                                                     callbacks=None,\n",
      "                                                     colsample_bylevel=None,\n",
      "                                                     colsample_bynode=None,\n",
      "                                                     colsample_bytree=None,\n",
      "                                                     early_stopping_rounds=None,\n",
      "                                                     enable_ca...\n",
      "                                                     max_cat_to_onehot=None,\n",
      "                                                     max_delta_step=None,\n",
      "                                                     max_depth=None,\n",
      "                                                     max_leaves=None,\n",
      "                                                     min_child_weight=None,\n",
      "                                                     missing=nan,\n",
      "                                                     monotone_constraints=None,\n",
      "                                                     n_estimators=100,\n",
      "                                                     n_jobs=None,\n",
      "                                                     num_parallel_tree=None,\n",
      "                                                     predictor=None,\n",
      "                                                     random_state=1,\n",
      "                                                     reg_alpha=None,\n",
      "                                                     reg_lambda=None, ...))]),\n",
      "             n_jobs=-1,\n",
      "             param_grid=[{'model__subsample': [0.9, 1.0], 'sel__k': [10, 11]}],\n",
      "             scoring='neg_mean_absolute_error')\n"
     ]
    }
   ],
   "source": [
    "best_model_name_v0, best_model_v0, least_mae_v0 = extract_best_model(grids= grids, grid_dict = grid_dict)\n",
    "\n",
    "print(f\"Best Model: {best_model_name_v0}\")\n",
    "print(f\"Error Rate: {least_mae_v0}\")\n",
    "print(best_model_v0)"
   ]
  },
  {
   "cell_type": "code",
   "execution_count": 34,
   "metadata": {},
   "outputs": [
    {
     "name": "stdout",
     "output_type": "stream",
     "text": [
      "Random Forest V-1 optimising...\n",
      "Best Config: {'model__max_depth': 15, 'model__min_samples_split': 2}\n",
      "Best MAE: -122.199\n",
      "Test set mean absolute error for best params: 146.849 \n",
      "Test set root mean squared error for best params: 12.118 \n"
     ]
    }
   ],
   "source": [
    "grid_params_rf1 = [{\n",
    "        'model__max_depth': param_range,\n",
    "        'model__min_samples_split': [2,5]\n",
    "                  }]\n",
    "\n",
    "RF1 = GridSearchCV(\n",
    "    estimator = Pipeline([\n",
    "                    ('sel', SelectKBest(score_func=mutual_info_regression, k=11)), \n",
    "                    ('model', RandomForestRegressor(random_state=1, criterion='mse'))\n",
    "                ]),\n",
    "            param_grid=grid_params_rf1,\n",
    "            scoring='neg_mean_absolute_error',\n",
    "            cv=cv, \n",
    "            n_jobs= -1)\n",
    "\n",
    "\n",
    "print(\"Random Forest V-1 optimising...\")\n",
    "RF1.fit(X_train17, y_train17)\n",
    "print('Best Config: %s' % RF1.best_params_)\n",
    "print('Best MAE: %.3f' % RF1.best_score_)\n",
    "y_pred_v1_rf1 = RF1.predict(X_test17)\n",
    "print('Test set mean absolute error for best params: %.3f ' % mean_absolute_error(y_test17, y_pred_v1_rf1))\n",
    "print('Test set root mean squared error for best params: %.3f ' % np.sqrt(mean_absolute_error(y_test17, y_pred_v1_rf1)))"
   ]
  },
  {
   "cell_type": "code",
   "execution_count": 35,
   "metadata": {},
   "outputs": [
    {
     "data": {
      "image/png": "[encoded data removed]",
      "text/plain": [
       "<Figure size 432x288 with 1 Axes>"
      ]
     },
     "metadata": {
      "needs_background": "light"
     },
     "output_type": "display_data"
    }
   ],
   "source": [
    "error_rec_tune = {\n",
    "    \"linearreg\": {\n",
    "        \"mae\": mae17_linear,\n",
    "        \"rmse\": rmse17_linear,\n",
    "        'mae1': 172.887 ,\n",
    "        'rmse1': 13.149\n",
    "    },\n",
    "    \"randomforest\": {\n",
    "        \"mae\": mae17_rf,\n",
    "        \"rmse\": rmse17_rf,\n",
    "        'mae1': 145.969,\n",
    "        'rmse1': 12.085 \n",
    "    },\n",
    "    \"decisiontree\": {\n",
    "        \"mae\": mae17_dtree,\n",
    "        \"rmse\": rmse17_dtree,\n",
    "        'mae1': 179.687 ,\n",
    "        'rmse1': 13.405 \n",
    "    },\n",
    "    \"xgboost\": {\n",
    "        \"mae\": mae17_xgb,\n",
    "        \"rmse\": rmse17_xgb,\n",
    "        'mae1': 138.506 ,\n",
    "        'rmse1': 11.769 \n",
    "    },\n",
    "}\n",
    "\n",
    "pd.DataFrame(error_rec_tune).plot(kind=\"bar\", \n",
    "             color=[\n",
    "                 sns.color_palette(\"pastel\")[0], \n",
    "                 sns.color_palette(\"pastel\")[1], \n",
    "                 sns.color_palette(\"pastel\")[2], \n",
    "                 sns.color_palette(\"pastel\")[3]]);"
   ]
  },
  {
   "cell_type": "code",
   "execution_count": null,
   "metadata": {},
   "outputs": [],
   "source": []
  }
 ],
 "metadata": {
  "interpreter": {
   "hash": "49fdda9a8f1b43ecf94cbf6adfec0c9149aed4e40f425dad389976f3db3c5b4b"
  },
  "kernelspec": {
   "display_name": "Python 3.10.4 64-bit",
   "language": "python",
   "name": "python3"
  },
  "language_info": {
   "codemirror_mode": {
    "name": "ipython",
    "version": 3
   },
   "file_extension": ".py",
   "mimetype": "text/x-python",
   "name": "python",
   "nbconvert_exporter": "python",
   "pygments_lexer": "ipython3",
   "version": "3.10.4"
  },
  "orig_nbformat": 4
 },
 "nbformat": 4,
 "nbformat_minor": 2
}
